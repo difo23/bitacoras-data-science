{
  "nbformat": 4,
  "nbformat_minor": 0,
  "metadata": {
    "colab": {
      "name": "Streamlined Data Ingestion with pandas.ipynb",
      "provenance": [],
      "authorship_tag": "ABX9TyOBom4vqCqVZ+sGgCpthp95",
      "include_colab_link": true
    },
    "kernelspec": {
      "name": "python3",
      "display_name": "Python 3"
    },
    "language_info": {
      "name": "python"
    }
  },
  "cells": [
    {
      "cell_type": "markdown",
      "metadata": {
        "id": "view-in-github",
        "colab_type": "text"
      },
      "source": [
        "<a href=\"https://colab.research.google.com/github/difo23/bitacoras-data-science/blob/main/Streamlined_Data_Ingestion_with_pandas.ipynb\" target=\"_parent\"><img src=\"https://colab.research.google.com/assets/colab-badge.svg\" alt=\"Open In Colab\"/></a>"
      ]
    },
    {
      "cell_type": "code",
      "execution_count": null,
      "metadata": {
        "id": "D4eFiwVlHcDo"
      },
      "outputs": [],
      "source": [
        ""
      ]
    }
  ]
}